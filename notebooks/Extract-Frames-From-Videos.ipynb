{
 "cells": [
  {
   "cell_type": "code",
   "execution_count": 1,
   "id": "56e8eadb",
   "metadata": {},
   "outputs": [],
   "source": [
    "import cv2\n",
    "import os\n",
    "import json"
   ]
  },
  {
   "cell_type": "code",
   "execution_count": 8,
   "id": "f4aeb40b",
   "metadata": {},
   "outputs": [],
   "source": [
    "with open('../config.json') as file:\n",
    "    config = dict(json.load(file))"
   ]
  },
  {
   "cell_type": "code",
   "execution_count": 9,
   "id": "ed05eb56",
   "metadata": {},
   "outputs": [],
   "source": [
    "# Load the pre-trained face detection cascade\n",
    "face_cascade = cv2.CascadeClassifier(config['hc_path'])\n",
    "eye_cascade = cv2.CascadeClassifier(config['eye_cascade'])"
   ]
  },
  {
   "cell_type": "code",
   "execution_count": 10,
   "id": "cdee3553",
   "metadata": {},
   "outputs": [],
   "source": [
    "def extract_images_from_video(_path, _save_to):\n",
    "    # Check if the save directory exists, create if it doesn't\n",
    "    os.makedirs(_save_to, exist_ok=True)\n",
    "\n",
    "    # Open the video file\n",
    "    video = cv2.VideoCapture(_path)\n",
    "\n",
    "    # Check if the video file is successfully opened\n",
    "    if not video.isOpened():\n",
    "        raise (\"Error opening video file\")\n",
    "\n",
    "    count_of_images = 1\n",
    "    while video.isOpened():\n",
    "        # Read a frame from the video\n",
    "        ret, frame = video.read()\n",
    "\n",
    "        if ret:\n",
    "            # Convert the frame to grayscale\n",
    "            gray_frame = cv2.cvtColor(frame, cv2.COLOR_BGR2GRAY)\n",
    "\n",
    "            # Perform face detection\n",
    "            faces = face_cascade.detectMultiScale(\n",
    "                gray_frame, scaleFactor=1.1, minNeighbors=5, minSize=(30, 30))\n",
    "\n",
    "            for i, (x, y, w, h) in enumerate(faces):\n",
    "                # Crop the detected face region\n",
    "                face = gray_frame[y:y+h, x:x+w]\n",
    "\n",
    "                eyes = eye_cascade.detectMultiScale(face)\n",
    "                if (len(eyes) >= 2):\n",
    "                    # Save the cropped face image\n",
    "                    cv2.imwrite(\n",
    "                        os.path.join(\n",
    "                            _save_to,\n",
    "                            f\"frame_{count_of_images}_face_{i+1}.png\"\n",
    "                        ),\n",
    "                        cv2.resize(\n",
    "                            face, (\n",
    "                                config['resize_w_h'],\n",
    "                                config['resize_w_h']\n",
    "                            )\n",
    "                        )\n",
    "                    )\n",
    "\n",
    "            count_of_images += 1\n",
    "\n",
    "        else:\n",
    "            break\n",
    "\n",
    "    # Release the video capture and close any open windows\n",
    "    video.release()\n",
    "    cv2.destroyAllWindows()"
   ]
  },
  {
   "cell_type": "code",
   "execution_count": 11,
   "id": "ce16ada0",
   "metadata": {},
   "outputs": [],
   "source": [
    "for name in config['members']:\n",
    "    extract_images_from_video(config['raw'][name], config['save_to'][name])"
   ]
  },
  {
   "cell_type": "code",
   "execution_count": null,
   "id": "614b09d3",
   "metadata": {},
   "outputs": [],
   "source": []
  }
 ],
 "metadata": {
  "kernelspec": {
   "display_name": "Python 3 (ipykernel)",
   "language": "python",
   "name": "python3"
  },
  "language_info": {
   "codemirror_mode": {
    "name": "ipython",
    "version": 3
   },
   "file_extension": ".py",
   "mimetype": "text/x-python",
   "name": "python",
   "nbconvert_exporter": "python",
   "pygments_lexer": "ipython3",
   "version": "3.11.3"
  }
 },
 "nbformat": 4,
 "nbformat_minor": 5
}
